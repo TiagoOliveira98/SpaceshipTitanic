{
 "cells": [
  {
   "attachments": {},
   "cell_type": "markdown",
   "metadata": {},
   "source": [
    "<h1>Spaceship Titanic Competion</h1>"
   ]
  },
  {
   "attachments": {},
   "cell_type": "markdown",
   "metadata": {},
   "source": [
    "<h2>Import Dependencies</h2>"
   ]
  },
  {
   "cell_type": "code",
   "execution_count": null,
   "metadata": {
    "vscode": {
     "languageId": "plaintext"
    }
   },
   "outputs": [],
   "source": [
    "import numpy as np # linear algebra\n",
    "import pandas as pd # data processing"
   ]
  },
  {
   "attachments": {},
   "cell_type": "markdown",
   "metadata": {},
   "source": [
    "<h2>Import Data</h2>"
   ]
  },
  {
   "cell_type": "code",
   "execution_count": null,
   "metadata": {
    "vscode": {
     "languageId": "plaintext"
    }
   },
   "outputs": [],
   "source": [
    "train_df = pd.read_csv('/kaggle/input/spaceship-titanic/train.csv')\n",
    "test_df = pd.read_csv('/kaggle/input/spaceship-titanic/test.csv')\n",
    "sub_df = pd.read_csv('/kaggle/input/spaceship-titanic/sample_submission.csv')"
   ]
  },
  {
   "attachments": {},
   "cell_type": "markdown",
   "metadata": {},
   "source": [
    "<h2>Quick Look at Data</h2>"
   ]
  },
  {
   "cell_type": "code",
   "execution_count": null,
   "metadata": {
    "vscode": {
     "languageId": "plaintext"
    }
   },
   "outputs": [],
   "source": [
    "# Look at the first entries\n",
    "# Uncomment the dataframe you want to check\n",
    "\n",
    "train_df.head()\n",
    "#test_df.head()\n",
    "#sub_df.head()"
   ]
  },
  {
   "cell_type": "code",
   "execution_count": null,
   "metadata": {
    "vscode": {
     "languageId": "plaintext"
    }
   },
   "outputs": [],
   "source": [
    "# Description of the data\n",
    "train_df.describe()"
   ]
  },
  {
   "cell_type": "code",
   "execution_count": null,
   "metadata": {
    "vscode": {
     "languageId": "plaintext"
    }
   },
   "outputs": [],
   "source": [
    "# Shapes of the dataframes\n",
    "train_df.shape, test_df.shape, sub_df.shape"
   ]
  },
  {
   "attachments": {},
   "cell_type": "markdown",
   "metadata": {},
   "source": [
    "<h2>Data Simple Preparation</h2>"
   ]
  },
  {
   "cell_type": "code",
   "execution_count": null,
   "metadata": {
    "vscode": {
     "languageId": "plaintext"
    }
   },
   "outputs": [],
   "source": [
    "# Change the label from boolean to numeric (0 or 1)\n",
    "train_df['Transported'] = train_df['Transported'].astype(int)"
   ]
  },
  {
   "cell_type": "code",
   "execution_count": null,
   "metadata": {
    "vscode": {
     "languageId": "plaintext"
    }
   },
   "outputs": [],
   "source": [
    "df = pd.concat([train_df,test_df], axis = 0) #For easy preprocessing, it is concatenated the train and test data dataframes\n",
    "df.describe()"
   ]
  },
  {
   "cell_type": "code",
   "execution_count": null,
   "metadata": {
    "vscode": {
     "languageId": "plaintext"
    }
   },
   "outputs": [],
   "source": [
    "# More info of the data\n",
    "df.info()"
   ]
  },
  {
   "cell_type": "code",
   "execution_count": null,
   "metadata": {
    "vscode": {
     "languageId": "plaintext"
    }
   },
   "outputs": [],
   "source": [
    "# Simple function to expose clearer the info about missing and uniqueness of entries in the data\n",
    "def summary(df):\n",
    "    print(f\"Dataset has {df.shape[1]} features and {df.shape[0]} examples.\")\n",
    "    summary = pd.DataFrame(index=df.columns)\n",
    "    summary[\"Unique\"] = df.nunique().values\n",
    "    summary[\"Missing\"] = df.isnull().sum().values\n",
    "    summary[\"Duplicated\"] = df.duplicated().sum()\n",
    "    summary[\"Types\"] = df.dtypes\n",
    "    return summary\n",
    "\n",
    "summary(train_df)"
   ]
  },
  {
   "cell_type": "code",
   "execution_count": null,
   "metadata": {
    "vscode": {
     "languageId": "plaintext"
    }
   },
   "outputs": [],
   "source": [
    "# Distribution of the labels in the training data\n",
    "train_df.Transported.value_counts().plot(kind = 'pie', labels = ['True','False'], autopct='%.0f%%')"
   ]
  },
  {
   "attachments": {},
   "cell_type": "markdown",
   "metadata": {},
   "source": [
    "<h2>Data Visualization</h2>"
   ]
  },
  {
   "attachments": {},
   "cell_type": "markdown",
   "metadata": {},
   "source": [
    "After gathering the data and examining it broadly, let's visualize some of the features and their relation to the final label "
   ]
  },
  {
   "cell_type": "code",
   "execution_count": null,
   "metadata": {
    "vscode": {
     "languageId": "plaintext"
    }
   },
   "outputs": [],
   "source": [
    "import matplotlib.pyplot as plt\n",
    "import seaborn as sns\n",
    "import plotly.express as px\n",
    "import warnings\n",
    "warnings.filterwarnings('ignore')"
   ]
  },
  {
   "cell_type": "code",
   "execution_count": null,
   "metadata": {
    "vscode": {
     "languageId": "plaintext"
    }
   },
   "outputs": [],
   "source": [
    "sns.countplot(data = train_df, x = 'HomePlanet', hue = 'Transported')"
   ]
  },
  {
   "attachments": {},
   "cell_type": "markdown",
   "metadata": {},
   "source": [
    "<h3>Insights</h3>\n",
    "<ul>\n",
    "    <li>Rate of transportation in Europa is way higher than the other 2</li>\n",
    "    <li>Rate of transportation in Earth the lowest, and below 50%</li>\n",
    "</ul>"
   ]
  },
  {
   "cell_type": "code",
   "execution_count": null,
   "metadata": {
    "vscode": {
     "languageId": "plaintext"
    }
   },
   "outputs": [],
   "source": [
    "sns.countplot(data = train_df, x = 'Destination', hue = 'Transported')"
   ]
  },
  {
   "attachments": {},
   "cell_type": "markdown",
   "metadata": {},
   "source": [
    "<h3>Insights</h3>\n",
    "<ul>\n",
    "    <li>With \"55 Cancri e\" as a destination is the only one with a rate of transportation over 50%</li>\n",
    "    <li>Not much more can be concluded from this graph</li>\n",
    "</ul>"
   ]
  },
  {
   "attachments": {},
   "cell_type": "markdown",
   "metadata": {},
   "source": [
    "Let's now take a look the the combinations of Home Planet/Destination and the transportation information"
   ]
  },
  {
   "cell_type": "code",
   "execution_count": null,
   "metadata": {
    "vscode": {
     "languageId": "plaintext"
    }
   },
   "outputs": [],
   "source": [
    "pd.DataFrame(train_df.groupby(['HomePlanet','Destination','Transported']).size())"
   ]
  },
  {
   "attachments": {},
   "cell_type": "markdown",
   "metadata": {},
   "source": [
    "<h3>Insights</h3>\n",
    "<ul>\n",
    "    <li>It is possible to verify that highest number of travels are between Earth and TRAPPIST-1e</li>\n",
    "    <li>It is possible to see that highest transportation rate travel is Europa->55 Cancri e (68.96%)</li>\n",
    "</ul>"
   ]
  },
  {
   "cell_type": "code",
   "execution_count": null,
   "metadata": {
    "vscode": {
     "languageId": "plaintext"
    }
   },
   "outputs": [],
   "source": [
    "# Box plot for the age distribition in both Transported and Non-Transported labeles examples\n",
    "px.box(train_df, x = 'Transported', y = 'Age')"
   ]
  },
  {
   "attachments": {},
   "cell_type": "markdown",
   "metadata": {},
   "source": [
    "<h3>Insights</h3>\n",
    "<ul>\n",
    "    <li>Similar age distributions for Transported and Non-Transported</li>\n",
    "    <li>No relation between age and label. Maybe in some other way, like age block, age data can be relevant</li>\n",
    "</ul>"
   ]
  },
  {
   "cell_type": "code",
   "execution_count": null,
   "metadata": {
    "vscode": {
     "languageId": "plaintext"
    }
   },
   "outputs": [],
   "source": [
    "numeric_cols = train_df.select_dtypes(include = 'number').columns.tolist()\n",
    "sns.pairplot(train_df[numeric_cols])"
   ]
  },
  {
   "attachments": {},
   "cell_type": "markdown",
   "metadata": {},
   "source": [
    "<h3>Insights</h3>\n",
    "<ul>\n",
    "    <li>Possible to see that those that spent more on food had an higher count on Transported</li>\n",
    "    <li>Possible to see that those that spent more in VRDeck and Spa had an lower count on Transportedr</li>\n",
    "</ul>"
   ]
  },
  {
   "cell_type": "code",
   "execution_count": null,
   "metadata": {
    "vscode": {
     "languageId": "plaintext"
    }
   },
   "outputs": [],
   "source": [
    "pivot = pd.pivot_table(train_df, values = 'Transported', index=['VIP','CryoSleep'], columns=train_df['Transported'], aggfunc=len)\n",
    "pivot = pd.pivot_table(train_df, values = 'Transported', index=['CryoSleep','VIP'], columns=train_df['Transported'], aggfunc=len)\n",
    "pivot\n",
    "#pd.DataFrame(train_df.groupby(['VIP','CryoSleep','Transported']).size())"
   ]
  },
  {
   "attachments": {},
   "cell_type": "markdown",
   "metadata": {},
   "source": [
    "<h3>Insights</h3>\n",
    "<ul>\n",
    "    <li>When the VIP and CrySleep usage is combined, the label is always Transported.</li>\n",
    "    <li>Much more examples where neither VIP or CryoSleep were used. Low VIPs.</li>\n",
    "    <li>Being VIP doesn't easily transpose into Transported label, if anything it may lower the chances.</li>\n",
    "    <li>Looks like CryoSleep usage has greater effect into the label being Transported. Probably good column of the dataset.</li>\n",
    "</ul>"
   ]
  },
  {
   "cell_type": "code",
   "execution_count": null,
   "metadata": {
    "vscode": {
     "languageId": "plaintext"
    }
   },
   "outputs": [],
   "source": [
    "# Additional data visualization to prove that CryoSleep is a good column in the dataset\n",
    "pivot1 = pd.pivot_table(train_df, values = 'Transported', index=['CryoSleep'], columns=train_df['Transported'], aggfunc=len)\n",
    "sns.heatmap(pivot1, annot = True, cbar = True, fmt = \"d\")"
   ]
  },
  {
   "attachments": {},
   "cell_type": "markdown",
   "metadata": {},
   "source": [
    "<h3>Insights</h3>\n",
    "<ul>\n",
    "    <li>Clearly, it is possible to see that when CryoSleep is used, the chances of being transported increase.</li>\n",
    "    <li>Of those were transported, around 58% were in CryoSleep. Of those that used CryoSleep, around 80% were Transported.</li>\n",
    "</ul>"
   ]
  }
 ],
 "metadata": {
  "language_info": {
   "name": "python"
  },
  "orig_nbformat": 4
 },
 "nbformat": 4,
 "nbformat_minor": 2
}
